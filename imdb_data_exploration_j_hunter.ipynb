{
 "cells": [
  {
   "cell_type": "markdown",
   "id": "9ab79853",
   "metadata": {},
   "source": [
    "Jamison Hunter\n",
    "\n",
    "June 12, 2023\n",
    "\n",
    "# IMDB Data Exploration"
   ]
  },
  {
   "cell_type": "code",
   "execution_count": 18,
   "id": "b07beebd",
   "metadata": {},
   "outputs": [],
   "source": [
    "# Imports\n",
    "import os\n",
    "import pandas as pd\n",
    "import seaborn as sns\n",
    "import matplotlib.pyplot as plt"
   ]
  },
  {
   "cell_type": "code",
   "execution_count": 2,
   "id": "82440eb7",
   "metadata": {},
   "outputs": [],
   "source": [
    "# loading tmdb data\n",
    "df_2000 = pd.read_csv(r\"Data/final_tmdb_data_2000.csv.gz\")\n",
    "df_2001 = pd.read_csv(r\"Data/final_tmdb_data_2001.csv.gz\")"
   ]
  },
  {
   "cell_type": "code",
   "execution_count": 3,
   "id": "55426742",
   "metadata": {},
   "outputs": [
    {
     "name": "stdout",
     "output_type": "stream",
     "text": [
      "<class 'pandas.core.frame.DataFrame'>\n",
      "RangeIndex: 1249 entries, 0 to 1248\n",
      "Data columns (total 26 columns):\n",
      " #   Column                 Non-Null Count  Dtype  \n",
      "---  ------                 --------------  -----  \n",
      " 0   imdb_id                1249 non-null   object \n",
      " 1   adult                  1248 non-null   float64\n",
      " 2   backdrop_path          697 non-null    object \n",
      " 3   belongs_to_collection  117 non-null    object \n",
      " 4   budget                 1248 non-null   float64\n",
      " 5   genres                 1248 non-null   object \n",
      " 6   homepage               63 non-null     object \n",
      " 7   id                     1248 non-null   float64\n",
      " 8   original_language      1248 non-null   object \n",
      " 9   original_title         1248 non-null   object \n",
      " 10  overview               1227 non-null   object \n",
      " 11  popularity             1248 non-null   float64\n",
      " 12  poster_path            1130 non-null   object \n",
      " 13  production_companies   1248 non-null   object \n",
      " 14  production_countries   1248 non-null   object \n",
      " 15  release_date           1239 non-null   object \n",
      " 16  revenue                1248 non-null   float64\n",
      " 17  runtime                1248 non-null   float64\n",
      " 18  spoken_languages       1248 non-null   object \n",
      " 19  status                 1248 non-null   object \n",
      " 20  tagline                556 non-null    object \n",
      " 21  title                  1248 non-null   object \n",
      " 22  video                  1248 non-null   float64\n",
      " 23  vote_average           1248 non-null   float64\n",
      " 24  vote_count             1248 non-null   float64\n",
      " 25  certification          393 non-null    object \n",
      "dtypes: float64(9), object(17)\n",
      "memory usage: 253.8+ KB\n"
     ]
    }
   ],
   "source": [
    "df_2000.info()"
   ]
  },
  {
   "cell_type": "code",
   "execution_count": 4,
   "id": "81d8dff3",
   "metadata": {},
   "outputs": [
    {
     "name": "stdout",
     "output_type": "stream",
     "text": [
      "<class 'pandas.core.frame.DataFrame'>\n",
      "RangeIndex: 1345 entries, 0 to 1344\n",
      "Data columns (total 26 columns):\n",
      " #   Column                 Non-Null Count  Dtype  \n",
      "---  ------                 --------------  -----  \n",
      " 0   imdb_id                1345 non-null   object \n",
      " 1   adult                  1344 non-null   float64\n",
      " 2   backdrop_path          729 non-null    object \n",
      " 3   belongs_to_collection  93 non-null     object \n",
      " 4   budget                 1344 non-null   float64\n",
      " 5   genres                 1344 non-null   object \n",
      " 6   homepage               108 non-null    object \n",
      " 7   id                     1344 non-null   float64\n",
      " 8   original_language      1344 non-null   object \n",
      " 9   original_title         1344 non-null   object \n",
      " 10  overview               1318 non-null   object \n",
      " 11  popularity             1344 non-null   float64\n",
      " 12  poster_path            1213 non-null   object \n",
      " 13  production_companies   1344 non-null   object \n",
      " 14  production_countries   1344 non-null   object \n",
      " 15  release_date           1329 non-null   object \n",
      " 16  revenue                1344 non-null   float64\n",
      " 17  runtime                1344 non-null   float64\n",
      " 18  spoken_languages       1344 non-null   object \n",
      " 19  status                 1344 non-null   object \n",
      " 20  tagline                557 non-null    object \n",
      " 21  title                  1344 non-null   object \n",
      " 22  video                  1344 non-null   float64\n",
      " 23  vote_average           1344 non-null   float64\n",
      " 24  vote_count             1344 non-null   float64\n",
      " 25  certification          419 non-null    object \n",
      "dtypes: float64(9), object(17)\n",
      "memory usage: 273.3+ KB\n"
     ]
    }
   ],
   "source": [
    "df_2001.info()"
   ]
  },
  {
   "cell_type": "code",
   "execution_count": 5,
   "id": "b779b4d5",
   "metadata": {},
   "outputs": [
    {
     "name": "stdout",
     "output_type": "stream",
     "text": [
      "<class 'pandas.core.frame.DataFrame'>\n",
      "Int64Index: 2594 entries, 0 to 1344\n",
      "Data columns (total 26 columns):\n",
      " #   Column                 Non-Null Count  Dtype  \n",
      "---  ------                 --------------  -----  \n",
      " 0   imdb_id                2594 non-null   object \n",
      " 1   adult                  2592 non-null   float64\n",
      " 2   backdrop_path          1426 non-null   object \n",
      " 3   belongs_to_collection  210 non-null    object \n",
      " 4   budget                 2592 non-null   float64\n",
      " 5   genres                 2592 non-null   object \n",
      " 6   homepage               171 non-null    object \n",
      " 7   id                     2592 non-null   float64\n",
      " 8   original_language      2592 non-null   object \n",
      " 9   original_title         2592 non-null   object \n",
      " 10  overview               2545 non-null   object \n",
      " 11  popularity             2592 non-null   float64\n",
      " 12  poster_path            2343 non-null   object \n",
      " 13  production_companies   2592 non-null   object \n",
      " 14  production_countries   2592 non-null   object \n",
      " 15  release_date           2568 non-null   object \n",
      " 16  revenue                2592 non-null   float64\n",
      " 17  runtime                2592 non-null   float64\n",
      " 18  spoken_languages       2592 non-null   object \n",
      " 19  status                 2592 non-null   object \n",
      " 20  tagline                1113 non-null   object \n",
      " 21  title                  2592 non-null   object \n",
      " 22  video                  2592 non-null   float64\n",
      " 23  vote_average           2592 non-null   float64\n",
      " 24  vote_count             2592 non-null   float64\n",
      " 25  certification          812 non-null    object \n",
      "dtypes: float64(9), object(17)\n",
      "memory usage: 547.2+ KB\n"
     ]
    }
   ],
   "source": [
    "# combining the two frames into a single data frame\n",
    "df_tmdb = pd.concat([df_2000, df_2001])\n",
    "df_tmdb.info()"
   ]
  },
  {
   "cell_type": "code",
   "execution_count": 6,
   "id": "1aaad219",
   "metadata": {},
   "outputs": [
    {
     "name": "stdout",
     "output_type": "stream",
     "text": [
      "<class 'pandas.core.frame.DataFrame'>\n",
      "Int64Index: 449 entries, 4 to 1291\n",
      "Data columns (total 26 columns):\n",
      " #   Column                 Non-Null Count  Dtype  \n",
      "---  ------                 --------------  -----  \n",
      " 0   imdb_id                449 non-null    object \n",
      " 1   adult                  449 non-null    float64\n",
      " 2   backdrop_path          429 non-null    object \n",
      " 3   belongs_to_collection  98 non-null     object \n",
      " 4   budget                 449 non-null    float64\n",
      " 5   genres                 449 non-null    object \n",
      " 6   homepage               59 non-null     object \n",
      " 7   id                     449 non-null    float64\n",
      " 8   original_language      449 non-null    object \n",
      " 9   original_title         449 non-null    object \n",
      " 10  overview               449 non-null    object \n",
      " 11  popularity             449 non-null    float64\n",
      " 12  poster_path            448 non-null    object \n",
      " 13  production_companies   449 non-null    object \n",
      " 14  production_countries   449 non-null    object \n",
      " 15  release_date           449 non-null    object \n",
      " 16  revenue                449 non-null    float64\n",
      " 17  runtime                449 non-null    float64\n",
      " 18  spoken_languages       449 non-null    object \n",
      " 19  status                 449 non-null    object \n",
      " 20  tagline                383 non-null    object \n",
      " 21  title                  449 non-null    object \n",
      " 22  video                  449 non-null    float64\n",
      " 23  vote_average           449 non-null    float64\n",
      " 24  vote_count             449 non-null    float64\n",
      " 25  certification          352 non-null    object \n",
      "dtypes: float64(9), object(17)\n",
      "memory usage: 94.7+ KB\n"
     ]
    }
   ],
   "source": [
    "df_rev = df_tmdb[\"revenue\"] > 0 \n",
    "df_tmdb[df_rev].info()"
   ]
  },
  {
   "cell_type": "code",
   "execution_count": 7,
   "id": "1f75b991",
   "metadata": {},
   "outputs": [
    {
     "name": "stdout",
     "output_type": "stream",
     "text": [
      "<class 'pandas.core.frame.DataFrame'>\n",
      "Int64Index: 546 entries, 1 to 1320\n",
      "Data columns (total 26 columns):\n",
      " #   Column                 Non-Null Count  Dtype  \n",
      "---  ------                 --------------  -----  \n",
      " 0   imdb_id                546 non-null    object \n",
      " 1   adult                  546 non-null    float64\n",
      " 2   backdrop_path          461 non-null    object \n",
      " 3   belongs_to_collection  102 non-null    object \n",
      " 4   budget                 546 non-null    float64\n",
      " 5   genres                 546 non-null    object \n",
      " 6   homepage               68 non-null     object \n",
      " 7   id                     546 non-null    float64\n",
      " 8   original_language      546 non-null    object \n",
      " 9   original_title         546 non-null    object \n",
      " 10  overview               544 non-null    object \n",
      " 11  popularity             546 non-null    float64\n",
      " 12  poster_path            529 non-null    object \n",
      " 13  production_companies   546 non-null    object \n",
      " 14  production_countries   546 non-null    object \n",
      " 15  release_date           545 non-null    object \n",
      " 16  revenue                546 non-null    float64\n",
      " 17  runtime                546 non-null    float64\n",
      " 18  spoken_languages       546 non-null    object \n",
      " 19  status                 546 non-null    object \n",
      " 20  tagline                446 non-null    object \n",
      " 21  title                  546 non-null    object \n",
      " 22  video                  546 non-null    float64\n",
      " 23  vote_average           546 non-null    float64\n",
      " 24  vote_count             546 non-null    float64\n",
      " 25  certification          389 non-null    object \n",
      "dtypes: float64(9), object(17)\n",
      "memory usage: 115.2+ KB\n"
     ]
    }
   ],
   "source": [
    "df_bud = df_tmdb[\"budget\"] > 0\n",
    "df_tmdb[df_bud].info()"
   ]
  },
  {
   "cell_type": "code",
   "execution_count": 8,
   "id": "a63d3c52",
   "metadata": {},
   "outputs": [
    {
     "name": "stdout",
     "output_type": "stream",
     "text": [
      "There are 449 movies with valid revenue information available.\n"
     ]
    }
   ],
   "source": [
    "num = df_tmdb[df_rev][\"revenue\"].value_counts().sum()\n",
    "print(f\"There are {num} movies with valid revenue information available.\")"
   ]
  },
  {
   "cell_type": "code",
   "execution_count": 9,
   "id": "662d257b",
   "metadata": {},
   "outputs": [
    {
     "name": "stdout",
     "output_type": "stream",
     "text": [
      "There are 546 movies with valid budget information available.\n"
     ]
    }
   ],
   "source": [
    "num = df_tmdb[df_bud][\"budget\"].value_counts().sum()\n",
    "print(f\"There are {num} movies with valid budget information available.\")"
   ]
  },
  {
   "cell_type": "code",
   "execution_count": 10,
   "id": "900b91b6",
   "metadata": {},
   "outputs": [
    {
     "data": {
      "text/html": [
       "<div>\n",
       "<style scoped>\n",
       "    .dataframe tbody tr th:only-of-type {\n",
       "        vertical-align: middle;\n",
       "    }\n",
       "\n",
       "    .dataframe tbody tr th {\n",
       "        vertical-align: top;\n",
       "    }\n",
       "\n",
       "    .dataframe thead th {\n",
       "        text-align: right;\n",
       "    }\n",
       "</style>\n",
       "<table border=\"1\" class=\"dataframe\">\n",
       "  <thead>\n",
       "    <tr style=\"text-align: right;\">\n",
       "      <th></th>\n",
       "      <th>imdb_id</th>\n",
       "      <th>adult</th>\n",
       "      <th>backdrop_path</th>\n",
       "      <th>belongs_to_collection</th>\n",
       "      <th>budget</th>\n",
       "      <th>genres</th>\n",
       "      <th>homepage</th>\n",
       "      <th>id</th>\n",
       "      <th>original_language</th>\n",
       "      <th>original_title</th>\n",
       "      <th>...</th>\n",
       "      <th>revenue</th>\n",
       "      <th>runtime</th>\n",
       "      <th>spoken_languages</th>\n",
       "      <th>status</th>\n",
       "      <th>tagline</th>\n",
       "      <th>title</th>\n",
       "      <th>video</th>\n",
       "      <th>vote_average</th>\n",
       "      <th>vote_count</th>\n",
       "      <th>certification</th>\n",
       "    </tr>\n",
       "  </thead>\n",
       "  <tbody>\n",
       "    <tr>\n",
       "      <th>162</th>\n",
       "      <td>tt0213149</td>\n",
       "      <td>0.0</td>\n",
       "      <td>/zv1xOEQzebKyku349qDZ085FZlO.jpg</td>\n",
       "      <td>NaN</td>\n",
       "      <td>140000000.0</td>\n",
       "      <td>[{'id': 28, 'name': 'Action'}, {'id': 10752, '...</td>\n",
       "      <td>NaN</td>\n",
       "      <td>676.0</td>\n",
       "      <td>en</td>\n",
       "      <td>Pearl Harbor</td>\n",
       "      <td>...</td>\n",
       "      <td>449220945.0</td>\n",
       "      <td>183.0</td>\n",
       "      <td>[{'english_name': 'French', 'iso_639_1': 'fr',...</td>\n",
       "      <td>Released</td>\n",
       "      <td>It takes a moment to change history. It takes ...</td>\n",
       "      <td>Pearl Harbor</td>\n",
       "      <td>0.0</td>\n",
       "      <td>6.933</td>\n",
       "      <td>5831.0</td>\n",
       "      <td>PG-13</td>\n",
       "    </tr>\n",
       "  </tbody>\n",
       "</table>\n",
       "<p>1 rows × 26 columns</p>\n",
       "</div>"
      ],
      "text/plain": [
       "       imdb_id  adult                     backdrop_path belongs_to_collection  \\\n",
       "162  tt0213149    0.0  /zv1xOEQzebKyku349qDZ085FZlO.jpg                   NaN   \n",
       "\n",
       "          budget                                             genres homepage  \\\n",
       "162  140000000.0  [{'id': 28, 'name': 'Action'}, {'id': 10752, '...      NaN   \n",
       "\n",
       "        id original_language original_title  ...      revenue  runtime  \\\n",
       "162  676.0                en   Pearl Harbor  ...  449220945.0    183.0   \n",
       "\n",
       "                                      spoken_languages    status  \\\n",
       "162  [{'english_name': 'French', 'iso_639_1': 'fr',...  Released   \n",
       "\n",
       "                                               tagline         title  video  \\\n",
       "162  It takes a moment to change history. It takes ...  Pearl Harbor    0.0   \n",
       "\n",
       "     vote_average vote_count certification  \n",
       "162         6.933     5831.0         PG-13  \n",
       "\n",
       "[1 rows x 26 columns]"
      ]
     },
     "execution_count": 10,
     "metadata": {},
     "output_type": "execute_result"
    }
   ],
   "source": [
    "# finding the film within the data with the highest budget\n",
    "x = df_tmdb[df_bud][\"budget\"].max()\n",
    "df_max = df_tmdb[\"budget\"] == x\n",
    "df_tmdb[df_max]"
   ]
  },
  {
   "cell_type": "code",
   "execution_count": 12,
   "id": "35869e20",
   "metadata": {},
   "outputs": [
    {
     "name": "stderr",
     "output_type": "stream",
     "text": [
      "C:\\Users\\Jamison\\AppData\\Local\\Temp\\ipykernel_14104\\4155392682.py:2: MatplotlibDeprecationWarning: The seaborn styles shipped by Matplotlib are deprecated since 3.6, as they no longer correspond to the styles shipped by seaborn. However, they will remain available as 'seaborn-v0_8-<style>'. Alternatively, directly use the seaborn API instead.\n",
      "  plt.style.use(['dark_background','seaborn-muted', 'seaborn-poster'])\n",
      "C:\\Users\\Jamison\\AppData\\Local\\Temp\\ipykernel_14104\\4155392682.py:2: MatplotlibDeprecationWarning: The seaborn styles shipped by Matplotlib are deprecated since 3.6, as they no longer correspond to the styles shipped by seaborn. However, they will remain available as 'seaborn-v0_8-<style>'. Alternatively, directly use the seaborn API instead.\n",
      "  plt.style.use(['dark_background','seaborn-muted', 'seaborn-poster'])\n"
     ]
    }
   ],
   "source": [
    "# setting the style for seaborn graphs\n",
    "plt.style.use(['dark_background','seaborn-muted', 'seaborn-poster'])"
   ]
  },
  {
   "cell_type": "code",
   "execution_count": 13,
   "id": "f22ae4b8",
   "metadata": {},
   "outputs": [
    {
     "data": {
      "text/plain": [
       "Text(0.5, 1.0, 'Certifications')"
      ]
     },
     "execution_count": 13,
     "metadata": {},
     "output_type": "execute_result"
    },
    {
     "data": {
      "image/png": "[encoded data removed]",
      "text/plain": [
       "<Figure size 1000x500 with 1 Axes>"
      ]
     },
     "metadata": {},
     "output_type": "display_data"
    }
   ],
   "source": [
    "# generating a bar graph of income\n",
    "fig, ax = plt.subplots(figsize=(10,5))\n",
    "ax = df_tmdb[\"certification\"].value_counts().plot(kind = \"barh\")\n",
    "ax.set_title(\"Certifications\")"
   ]
  },
  {
   "cell_type": "code",
   "execution_count": 16,
   "id": "8ccb67fd",
   "metadata": {},
   "outputs": [
    {
     "name": "stdout",
     "output_type": "stream",
     "text": [
      "The average revenue for nan films is nan\n",
      "The average revenue for PG films is 62480125.85483871\n",
      "The average revenue for R films is 16259918.066523606\n",
      "The average revenue for G films is 73352975.5\n",
      "The average revenue for NR films is 2295879.7746478873\n",
      "The average revenue for PG-13 films is 71465436.48901099\n",
      "The average revenue for NC-17 films is 0.0\n",
      "The average revenue for Unrated films is 0.0\n"
     ]
    }
   ],
   "source": [
    "# writing a for loop in order to find the average of the data's certifications\n",
    "for i in df_tmdb[\"certification\"].unique():\n",
    "    x = df_tmdb[\"certification\"] == i\n",
    "    avg = df_tmdb[x][\"revenue\"].mean()\n",
    "    print(f\"The average revenue for {i} films is {avg}\")"
   ]
  },
  {
   "cell_type": "code",
   "execution_count": 17,
   "id": "804e6b67",
   "metadata": {},
   "outputs": [
    {
     "name": "stdout",
     "output_type": "stream",
     "text": [
      "The average budget for nan films is nan\n",
      "The average budget for PG films is 25306407.0\n",
      "The average budget for R films is 9684129.721030043\n",
      "The average budget for G films is 23833333.333333332\n",
      "The average budget for NR films is 1509015.4084507043\n",
      "The average budget for PG-13 films is 30945922.675824177\n",
      "The average budget for NC-17 films is 0.0\n",
      "The average budget for Unrated films is 0.0\n"
     ]
    }
   ],
   "source": [
    "# writing a for loop in order to find the average of the data's certifications\n",
    "for i in df_tmdb[\"certification\"].unique():\n",
    "    x = df_tmdb[\"certification\"] == i\n",
    "    avg = df_tmdb[x][\"budget\"].mean()\n",
    "    print(f\"The average budget for {i} films is {avg}\")"
   ]
  },
  {
   "cell_type": "code",
   "execution_count": 19,
   "id": "440c2a2e",
   "metadata": {},
   "outputs": [],
   "source": [
    "# referencing previous Data folder and saving the combined frame as a csv file\n",
    "FOLDER = \"Data/\"\n",
    "os.makedirs(FOLDER, exist_ok=True)\n",
    "os.listdir(FOLDER)\n",
    "df_tmdb.to_csv(f\"{FOLDER}tmdb_results_combined.csv.gz\")"
   ]
  }
 ],
 "metadata": {
  "kernelspec": {
   "display_name": "Python (dojo-env)",
   "language": "python",
   "name": "dojo-env"
  },
  "language_info": {
   "codemirror_mode": {
    "name": "ipython",
    "version": 3
   },
   "file_extension": ".py",
   "mimetype": "text/x-python",
   "name": "python",
   "nbconvert_exporter": "python",
   "pygments_lexer": "ipython3",
   "version": "3.9.15"
  },
  "toc": {
   "base_numbering": 1,
   "nav_menu": {},
   "number_sections": false,
   "sideBar": true,
   "skip_h1_title": false,
   "title_cell": "Table of Contents",
   "title_sidebar": "Contents",
   "toc_cell": false,
   "toc_position": {},
   "toc_section_display": true,
   "toc_window_display": false
  }
 },
 "nbformat": 4,
 "nbformat_minor": 5
}
