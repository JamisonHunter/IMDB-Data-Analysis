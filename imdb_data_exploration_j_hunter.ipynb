{
 "cells": [
  {
   "cell_type": "markdown",
   "id": "9ab79853",
   "metadata": {},
   "source": [
    "Jamison Hunter\n",
    "\n",
    "June 12, 2023\n",
    "\n",
    "# IMDB Data Exploration"
   ]
  },
  {
   "cell_type": "code",
   "execution_count": 16,
   "id": "b07beebd",
   "metadata": {},
   "outputs": [],
   "source": [
    "# Imports\n",
    "import os\n",
    "import pandas as pd\n",
    "import seaborn as sns\n",
    "import matplotlib.pyplot as plt\n",
    "# ignore warnings\n",
    "import warnings\n",
    "warnings.filterwarnings(\"ignore\")"
   ]
  },
  {
   "cell_type": "code",
   "execution_count": 17,
   "id": "82440eb7",
   "metadata": {},
   "outputs": [],
   "source": [
    "# loading tmdb data\n",
    "df_2000 = pd.read_csv(r\"Data/final_tmdb_data_2000.csv.gz\")\n",
    "df_2001 = pd.read_csv(r\"Data/final_tmdb_data_2001.csv.gz\")\n",
    "df_2002 = pd.read_csv(r\"Data/final_tmdb_data_2002.csv.gz\")\n",
    "df_2003 = pd.read_csv(r\"Data/final_tmdb_data_2003.csv.gz\")\n",
    "df_2004 = pd.read_csv(r\"Data/final_tmdb_data_2004.csv.gz\")\n",
    "df_2005 = pd.read_csv(r\"Data/final_tmdb_data_2005.csv.gz\")\n",
    "df_2006 = pd.read_csv(r\"Data/final_tmdb_data_2006.csv.gz\")\n",
    "df_2007 = pd.read_csv(r\"Data/final_tmdb_data_2007.csv.gz\")"
   ]
  },
  {
   "cell_type": "code",
   "execution_count": 18,
   "id": "b779b4d5",
   "metadata": {},
   "outputs": [
    {
     "name": "stdout",
     "output_type": "stream",
     "text": [
      "<class 'pandas.core.frame.DataFrame'>\n",
      "Int64Index: 12209 entries, 0 to 1933\n",
      "Data columns (total 26 columns):\n",
      " #   Column                 Non-Null Count  Dtype  \n",
      "---  ------                 --------------  -----  \n",
      " 0   imdb_id                12209 non-null  object \n",
      " 1   adult                  12201 non-null  float64\n",
      " 2   backdrop_path          6793 non-null   object \n",
      " 3   belongs_to_collection  975 non-null    object \n",
      " 4   budget                 12201 non-null  float64\n",
      " 5   genres                 12201 non-null  object \n",
      " 6   homepage               1562 non-null   object \n",
      " 7   id                     12201 non-null  float64\n",
      " 8   original_language      12201 non-null  object \n",
      " 9   original_title         12201 non-null  object \n",
      " 10  overview               11932 non-null  object \n",
      " 11  popularity             12201 non-null  float64\n",
      " 12  poster_path            10840 non-null  object \n",
      " 13  production_companies   12201 non-null  object \n",
      " 14  production_countries   12201 non-null  object \n",
      " 15  release_date           12011 non-null  object \n",
      " 16  revenue                12201 non-null  float64\n",
      " 17  runtime                12201 non-null  float64\n",
      " 18  spoken_languages       12201 non-null  object \n",
      " 19  status                 12201 non-null  object \n",
      " 20  tagline                5270 non-null   object \n",
      " 21  title                  12201 non-null  object \n",
      " 22  video                  12201 non-null  float64\n",
      " 23  vote_average           12201 non-null  float64\n",
      " 24  vote_count             12201 non-null  float64\n",
      " 25  certification          3935 non-null   object \n",
      "dtypes: float64(9), object(17)\n",
      "memory usage: 2.5+ MB\n"
     ]
    }
   ],
   "source": [
    "# combining the two frames into a single data frame\n",
    "df_tmdb = pd.concat([df_2000, df_2001, df_2002, df_2003, df_2004, df_2005, df_2006, df_2007])\n",
    "df_tmdb.info()"
   ]
  },
  {
   "cell_type": "code",
   "execution_count": 19,
   "id": "1aaad219",
   "metadata": {},
   "outputs": [
    {
     "name": "stdout",
     "output_type": "stream",
     "text": [
      "<class 'pandas.core.frame.DataFrame'>\n",
      "Int64Index: 2307 entries, 4 to 1872\n",
      "Data columns (total 26 columns):\n",
      " #   Column                 Non-Null Count  Dtype  \n",
      "---  ------                 --------------  -----  \n",
      " 0   imdb_id                2307 non-null   object \n",
      " 1   adult                  2307 non-null   float64\n",
      " 2   backdrop_path          2180 non-null   object \n",
      " 3   belongs_to_collection  476 non-null    object \n",
      " 4   budget                 2307 non-null   float64\n",
      " 5   genres                 2307 non-null   object \n",
      " 6   homepage               651 non-null    object \n",
      " 7   id                     2307 non-null   float64\n",
      " 8   original_language      2307 non-null   object \n",
      " 9   original_title         2307 non-null   object \n",
      " 10  overview               2303 non-null   object \n",
      " 11  popularity             2307 non-null   float64\n",
      " 12  poster_path            2293 non-null   object \n",
      " 13  production_companies   2307 non-null   object \n",
      " 14  production_countries   2307 non-null   object \n",
      " 15  release_date           2306 non-null   object \n",
      " 16  revenue                2307 non-null   float64\n",
      " 17  runtime                2307 non-null   float64\n",
      " 18  spoken_languages       2307 non-null   object \n",
      " 19  status                 2307 non-null   object \n",
      " 20  tagline                1850 non-null   object \n",
      " 21  title                  2307 non-null   object \n",
      " 22  video                  2307 non-null   float64\n",
      " 23  vote_average           2307 non-null   float64\n",
      " 24  vote_count             2307 non-null   float64\n",
      " 25  certification          1741 non-null   object \n",
      "dtypes: float64(9), object(17)\n",
      "memory usage: 486.6+ KB\n"
     ]
    }
   ],
   "source": [
    "df_rev = df_tmdb[\"revenue\"] > 0 \n",
    "df_tmdb[df_rev].info()"
   ]
  },
  {
   "cell_type": "code",
   "execution_count": 20,
   "id": "1f75b991",
   "metadata": {},
   "outputs": [
    {
     "name": "stdout",
     "output_type": "stream",
     "text": [
      "<class 'pandas.core.frame.DataFrame'>\n",
      "Int64Index: 2905 entries, 1 to 1904\n",
      "Data columns (total 26 columns):\n",
      " #   Column                 Non-Null Count  Dtype  \n",
      "---  ------                 --------------  -----  \n",
      " 0   imdb_id                2905 non-null   object \n",
      " 1   adult                  2905 non-null   float64\n",
      " 2   backdrop_path          2308 non-null   object \n",
      " 3   belongs_to_collection  466 non-null    object \n",
      " 4   budget                 2905 non-null   float64\n",
      " 5   genres                 2905 non-null   object \n",
      " 6   homepage               706 non-null    object \n",
      " 7   id                     2905 non-null   float64\n",
      " 8   original_language      2905 non-null   object \n",
      " 9   original_title         2905 non-null   object \n",
      " 10  overview               2893 non-null   object \n",
      " 11  popularity             2905 non-null   float64\n",
      " 12  poster_path            2760 non-null   object \n",
      " 13  production_companies   2905 non-null   object \n",
      " 14  production_countries   2905 non-null   object \n",
      " 15  release_date           2889 non-null   object \n",
      " 16  revenue                2905 non-null   float64\n",
      " 17  runtime                2905 non-null   float64\n",
      " 18  spoken_languages       2905 non-null   object \n",
      " 19  status                 2905 non-null   object \n",
      " 20  tagline                2210 non-null   object \n",
      " 21  title                  2905 non-null   object \n",
      " 22  video                  2905 non-null   float64\n",
      " 23  vote_average           2905 non-null   float64\n",
      " 24  vote_count             2905 non-null   float64\n",
      " 25  certification          1944 non-null   object \n",
      "dtypes: float64(9), object(17)\n",
      "memory usage: 612.8+ KB\n"
     ]
    }
   ],
   "source": [
    "df_bud = df_tmdb[\"budget\"] > 0\n",
    "df_tmdb[df_bud].info()"
   ]
  },
  {
   "cell_type": "code",
   "execution_count": 21,
   "id": "a63d3c52",
   "metadata": {},
   "outputs": [
    {
     "name": "stdout",
     "output_type": "stream",
     "text": [
      "There are 2307 movies with valid revenue information available.\n"
     ]
    }
   ],
   "source": [
    "num = df_tmdb[df_rev][\"revenue\"].value_counts().sum()\n",
    "print(f\"There are {num} movies with valid revenue information available.\")"
   ]
  },
  {
   "cell_type": "code",
   "execution_count": 22,
   "id": "662d257b",
   "metadata": {},
   "outputs": [
    {
     "name": "stdout",
     "output_type": "stream",
     "text": [
      "There are 2905 movies with valid budget information available.\n"
     ]
    }
   ],
   "source": [
    "num = df_tmdb[df_bud][\"budget\"].value_counts().sum()\n",
    "print(f\"There are {num} movies with valid budget information available.\")"
   ]
  },
  {
   "cell_type": "code",
   "execution_count": 23,
   "id": "900b91b6",
   "metadata": {},
   "outputs": [
    {
     "data": {
      "text/html": [
       "<div>\n",
       "<style scoped>\n",
       "    .dataframe tbody tr th:only-of-type {\n",
       "        vertical-align: middle;\n",
       "    }\n",
       "\n",
       "    .dataframe tbody tr th {\n",
       "        vertical-align: top;\n",
       "    }\n",
       "\n",
       "    .dataframe thead th {\n",
       "        text-align: right;\n",
       "    }\n",
       "</style>\n",
       "<table border=\"1\" class=\"dataframe\">\n",
       "  <thead>\n",
       "    <tr style=\"text-align: right;\">\n",
       "      <th></th>\n",
       "      <th>imdb_id</th>\n",
       "      <th>adult</th>\n",
       "      <th>backdrop_path</th>\n",
       "      <th>belongs_to_collection</th>\n",
       "      <th>budget</th>\n",
       "      <th>genres</th>\n",
       "      <th>homepage</th>\n",
       "      <th>id</th>\n",
       "      <th>original_language</th>\n",
       "      <th>original_title</th>\n",
       "      <th>...</th>\n",
       "      <th>revenue</th>\n",
       "      <th>runtime</th>\n",
       "      <th>spoken_languages</th>\n",
       "      <th>status</th>\n",
       "      <th>tagline</th>\n",
       "      <th>title</th>\n",
       "      <th>video</th>\n",
       "      <th>vote_average</th>\n",
       "      <th>vote_count</th>\n",
       "      <th>certification</th>\n",
       "    </tr>\n",
       "  </thead>\n",
       "  <tbody>\n",
       "    <tr>\n",
       "      <th>174</th>\n",
       "      <td>tt0449088</td>\n",
       "      <td>0.0</td>\n",
       "      <td>/xQkk0i3FrNSq7DTBlxRf9XJhH7l.jpg</td>\n",
       "      <td>{'id': 295, 'name': 'Pirates of the Caribbean ...</td>\n",
       "      <td>300000000.0</td>\n",
       "      <td>[{'id': 12, 'name': 'Adventure'}, {'id': 14, '...</td>\n",
       "      <td>https://movies.disney.com/pirates-of-the-carib...</td>\n",
       "      <td>285.0</td>\n",
       "      <td>en</td>\n",
       "      <td>Pirates of the Caribbean: At World's End</td>\n",
       "      <td>...</td>\n",
       "      <td>961000000.0</td>\n",
       "      <td>169.0</td>\n",
       "      <td>[{'english_name': 'English', 'iso_639_1': 'en'...</td>\n",
       "      <td>Released</td>\n",
       "      <td>At the end of the world, the adventure begins.</td>\n",
       "      <td>Pirates of the Caribbean: At World's End</td>\n",
       "      <td>0.0</td>\n",
       "      <td>7.241</td>\n",
       "      <td>13145.0</td>\n",
       "      <td>PG-13</td>\n",
       "    </tr>\n",
       "  </tbody>\n",
       "</table>\n",
       "<p>1 rows × 26 columns</p>\n",
       "</div>"
      ],
      "text/plain": [
       "       imdb_id  adult                     backdrop_path  \\\n",
       "174  tt0449088    0.0  /xQkk0i3FrNSq7DTBlxRf9XJhH7l.jpg   \n",
       "\n",
       "                                 belongs_to_collection       budget  \\\n",
       "174  {'id': 295, 'name': 'Pirates of the Caribbean ...  300000000.0   \n",
       "\n",
       "                                                genres  \\\n",
       "174  [{'id': 12, 'name': 'Adventure'}, {'id': 14, '...   \n",
       "\n",
       "                                              homepage     id  \\\n",
       "174  https://movies.disney.com/pirates-of-the-carib...  285.0   \n",
       "\n",
       "    original_language                            original_title  ...  \\\n",
       "174                en  Pirates of the Caribbean: At World's End  ...   \n",
       "\n",
       "         revenue  runtime                                   spoken_languages  \\\n",
       "174  961000000.0    169.0  [{'english_name': 'English', 'iso_639_1': 'en'...   \n",
       "\n",
       "       status                                         tagline  \\\n",
       "174  Released  At the end of the world, the adventure begins.   \n",
       "\n",
       "                                        title  video  vote_average vote_count  \\\n",
       "174  Pirates of the Caribbean: At World's End    0.0         7.241    13145.0   \n",
       "\n",
       "    certification  \n",
       "174         PG-13  \n",
       "\n",
       "[1 rows x 26 columns]"
      ]
     },
     "execution_count": 23,
     "metadata": {},
     "output_type": "execute_result"
    }
   ],
   "source": [
    "# finding the film within the data with the highest budget\n",
    "x = df_tmdb[df_bud][\"budget\"].max()\n",
    "df_max = df_tmdb[\"budget\"] == x\n",
    "df_tmdb[df_max]"
   ]
  },
  {
   "cell_type": "code",
   "execution_count": 24,
   "id": "35869e20",
   "metadata": {},
   "outputs": [],
   "source": [
    "# setting the style for seaborn graphs\n",
    "plt.style.use(['dark_background','seaborn-muted', 'seaborn-poster'])"
   ]
  },
  {
   "cell_type": "code",
   "execution_count": 25,
   "id": "f22ae4b8",
   "metadata": {},
   "outputs": [
    {
     "data": {
      "text/plain": [
       "Text(0.5, 0, 'Number of Certifications')"
      ]
     },
     "execution_count": 25,
     "metadata": {},
     "output_type": "execute_result"
    },
    {
     "data": {
      "image/png": "[encoded data removed]",
      "text/plain": [
       "<Figure size 1000x500 with 1 Axes>"
      ]
     },
     "metadata": {},
     "output_type": "display_data"
    }
   ],
   "source": [
    "# generating a bar graph of certifications\n",
    "fig, ax = plt.subplots(figsize=(10,5))\n",
    "ax = df_tmdb[\"certification\"].value_counts().plot(kind = \"barh\")\n",
    "ax.set_title(\"Distribution of Certifications\")\n",
    "ax.set_ylabel(\"Rating\")\n",
    "ax.set_xlabel(\"Number of Certifications\")"
   ]
  },
  {
   "cell_type": "code",
   "execution_count": 26,
   "id": "8ccb67fd",
   "metadata": {},
   "outputs": [
    {
     "name": "stdout",
     "output_type": "stream",
     "text": [
      "The average revenue for nan films is nan\n",
      "The average revenue for PG films is 66639412.60253165\n",
      "The average revenue for R films is 15634261.433520121\n",
      "The average revenue for G films is 58102588.6632653\n",
      "The average revenue for NR films is 4695150.521472393\n",
      "The average revenue for PG-13 films is 66059194.50526316\n",
      "The average revenue for NC-17 films is 3480148.9166666665\n",
      "The average revenue for Unrated films is 0.0\n",
      "The average revenue for UR films is 0.0\n",
      "The average revenue for Not Rated films is 0.0\n",
      "The average revenue for ScreamFest Horror Film Festival films is 0.0\n"
     ]
    }
   ],
   "source": [
    "# writing a for loop in order to find the average of the data's certifications\n",
    "for i in df_tmdb[\"certification\"].unique():\n",
    "    x = df_tmdb[\"certification\"] == i\n",
    "    avg = df_tmdb[x][\"revenue\"].mean()\n",
    "    print(f\"The average revenue for {i} films is {avg}\")"
   ]
  },
  {
   "cell_type": "code",
   "execution_count": 27,
   "id": "804e6b67",
   "metadata": {},
   "outputs": [
    {
     "name": "stdout",
     "output_type": "stream",
     "text": [
      "The average budget for nan films is nan\n",
      "The average budget for PG films is 23778792.50886076\n",
      "The average budget for R films is 8744478.519612838\n",
      "The average budget for G films is 23031632.714285713\n",
      "The average budget for NR films is 1477528.1513292433\n",
      "The average budget for PG-13 films is 26833536.057894737\n",
      "The average budget for NC-17 films is 1668138.888888889\n",
      "The average budget for Unrated films is 0.0\n",
      "The average budget for UR films is 0.0\n",
      "The average budget for Not Rated films is 0.0\n",
      "The average budget for ScreamFest Horror Film Festival films is 0.0\n"
     ]
    }
   ],
   "source": [
    "# writing a for loop in order to find the average of the data's certifications\n",
    "for i in df_tmdb[\"certification\"].unique():\n",
    "    x = df_tmdb[\"certification\"] == i\n",
    "    avg = df_tmdb[x][\"budget\"].mean()\n",
    "    print(f\"The average budget for {i} films is {avg}\")"
   ]
  },
  {
   "cell_type": "code",
   "execution_count": 28,
   "id": "440c2a2e",
   "metadata": {},
   "outputs": [],
   "source": [
    "# referencing previous Data folder and saving the combined frame as a csv file\n",
    "FOLDER = \"Data/\"\n",
    "os.makedirs(FOLDER, exist_ok=True)\n",
    "os.listdir(FOLDER)\n",
    "df_tmdb.to_csv(f\"{FOLDER}tmdb_results_total.csv.gz\")"
   ]
  }
 ],
 "metadata": {
  "kernelspec": {
   "display_name": "Python (dojo-env)",
   "language": "python",
   "name": "dojo-env"
  },
  "language_info": {
   "codemirror_mode": {
    "name": "ipython",
    "version": 3
   },
   "file_extension": ".py",
   "mimetype": "text/x-python",
   "name": "python",
   "nbconvert_exporter": "python",
   "pygments_lexer": "ipython3",
   "version": "3.9.15"
  },
  "toc": {
   "base_numbering": 1,
   "nav_menu": {},
   "number_sections": false,
   "sideBar": true,
   "skip_h1_title": false,
   "title_cell": "Table of Contents",
   "title_sidebar": "Contents",
   "toc_cell": false,
   "toc_position": {},
   "toc_section_display": true,
   "toc_window_display": false
  }
 },
 "nbformat": 4,
 "nbformat_minor": 5
}
